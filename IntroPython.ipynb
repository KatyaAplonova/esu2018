{
 "cells": [
  {
   "cell_type": "markdown",
   "metadata": {},
   "source": [
    "**Introductory Python for ESU2018**\n",
    "\n",
    "Welcome to the corpus text mining course! This first hands-on unit will guide you through some basic python concepts and syntax to get you all on the same page for the rest of the course. If you are familiar with other programming languages this should be super easy for you. Keep in mind, this is the bare bones of what you need for intro DH/text mining and this course and there are many more advanced versions of learning Python.\n",
    "\n",
    "Here we will cover:\n",
    "1. Commonly Used Data Structures\n",
    "2. Strings and Common String Usages\n",
    "3. Loops\n",
    "4. Reading and Writing Files (CSV, plain text, etc.)\n",
    "5. Regex \n",
    "6. Pandas\n",
    "\n",
    "\n"
   ]
  },
  {
   "cell_type": "markdown",
   "metadata": {},
   "source": [
    "1. Commonly Used Data Structures  \n",
    "\n",
    "Data structures are different format of keeping your data on your computer. We will go through a few most commonly used ones here.\n",
    "\n",
    "Probably the most commonly used data structure is a list or vector."
   ]
  },
  {
   "cell_type": "code",
   "execution_count": null,
   "metadata": {},
   "outputs": [],
   "source": [
    "#Python sytax uses brackets for lists\n",
    "my_list = [1,2,3,4]"
   ]
  },
  {
   "cell_type": "code",
   "execution_count": null,
   "metadata": {},
   "outputs": [],
   "source": [
    "my_list"
   ]
  },
  {
   "cell_type": "code",
   "execution_count": null,
   "metadata": {},
   "outputs": [],
   "source": [
    "#You can declare an empty list\n",
    "empty_list = []"
   ]
  },
  {
   "cell_type": "code",
   "execution_count": null,
   "metadata": {},
   "outputs": [],
   "source": [
    "#You can append thing to the end of it. Lists keep their order and repeated elements. \n",
    "my_list = [2,29.29494949,0,294,4,4,4,3,4,5,1]"
   ]
  },
  {
   "cell_type": "code",
   "execution_count": null,
   "metadata": {},
   "outputs": [],
   "source": [
    "my_list\n"
   ]
  },
  {
   "cell_type": "code",
   "execution_count": null,
   "metadata": {},
   "outputs": [],
   "source": [
    "my_list.append(300000000)"
   ]
  },
  {
   "cell_type": "code",
   "execution_count": null,
   "metadata": {},
   "outputs": [],
   "source": [
    "my_list"
   ]
  },
  {
   "cell_type": "code",
   "execution_count": null,
   "metadata": {},
   "outputs": [],
   "source": [
    "#And you can have different data types in a single list.\n",
    "my_list.append('apples!')"
   ]
  },
  {
   "cell_type": "code",
   "execution_count": null,
   "metadata": {},
   "outputs": [],
   "source": [
    "my_list"
   ]
  },
  {
   "cell_type": "code",
   "execution_count": null,
   "metadata": {},
   "outputs": [],
   "source": [
    "#You can get the length or number of elements.\n",
    "len(my_list)"
   ]
  },
  {
   "cell_type": "code",
   "execution_count": null,
   "metadata": {},
   "outputs": [],
   "source": [
    "#You can call elements by index\n",
    "my_list[len(my_list)-1]"
   ]
  },
  {
   "cell_type": "code",
   "execution_count": null,
   "metadata": {},
   "outputs": [],
   "source": [
    "#Conversely, you can get the index of a given element\n",
    "my_list.index('apples!')"
   ]
  },
  {
   "cell_type": "code",
   "execution_count": null,
   "metadata": {},
   "outputs": [],
   "source": [
    "numbered_list = [1,3095,39,1,304993,2,3,2,1,495820,3]"
   ]
  },
  {
   "cell_type": "code",
   "execution_count": null,
   "metadata": {},
   "outputs": [],
   "source": [
    "#You can sort your list too\n",
    "sorted(numbered_list)"
   ]
  },
  {
   "cell_type": "code",
   "execution_count": null,
   "metadata": {},
   "outputs": [],
   "source": [
    "#Probably the most 'Pythonic' thing you can do with lists is slicing. You can get back a subset list by index.\n",
    "sorted(numbered_list)[0:3]"
   ]
  },
  {
   "cell_type": "code",
   "execution_count": null,
   "metadata": {},
   "outputs": [],
   "source": [
    "sorted(numbered_list)[-3:len(numbered_list)]"
   ]
  },
  {
   "cell_type": "code",
   "execution_count": null,
   "metadata": {},
   "outputs": [],
   "source": [
    "sorted(numbered_list)[:len(numbered_list)]"
   ]
  },
  {
   "cell_type": "code",
   "execution_count": null,
   "metadata": {},
   "outputs": [],
   "source": [
    "sorted(numbered_list)[0:10:3]"
   ]
  },
  {
   "cell_type": "code",
   "execution_count": null,
   "metadata": {},
   "outputs": [],
   "source": [
    "#Another Pythonic thing is a list comprehension. We'll cover this later in the loops section"
   ]
  },
  {
   "cell_type": "markdown",
   "metadata": {},
   "source": [
    "OK, the next is a set. A set is the same definition as used in math. It's a group of unique elements with no ordering."
   ]
  },
  {
   "cell_type": "code",
   "execution_count": null,
   "metadata": {},
   "outputs": [],
   "source": [
    "#In Python you declare one like this.\n",
    "my_set = set()\n"
   ]
  },
  {
   "cell_type": "code",
   "execution_count": null,
   "metadata": {},
   "outputs": [],
   "source": [
    "my_set.add(4)"
   ]
  },
  {
   "cell_type": "code",
   "execution_count": null,
   "metadata": {},
   "outputs": [],
   "source": [
    "my_set"
   ]
  },
  {
   "cell_type": "code",
   "execution_count": null,
   "metadata": {},
   "outputs": [],
   "source": [
    "my_set = {2,3,5,6}"
   ]
  },
  {
   "cell_type": "code",
   "execution_count": null,
   "metadata": {},
   "outputs": [],
   "source": [
    "my_set"
   ]
  },
  {
   "cell_type": "code",
   "execution_count": null,
   "metadata": {},
   "outputs": [],
   "source": [
    "4 in my_set"
   ]
  },
  {
   "cell_type": "code",
   "execution_count": null,
   "metadata": {},
   "outputs": [],
   "source": [
    "my_set.union({4})"
   ]
  },
  {
   "cell_type": "code",
   "execution_count": null,
   "metadata": {},
   "outputs": [],
   "source": [
    "3 in my_set.intersection({3,5})"
   ]
  },
  {
   "cell_type": "code",
   "execution_count": null,
   "metadata": {},
   "outputs": [],
   "source": [
    "my_set | {4}"
   ]
  },
  {
   "cell_type": "code",
   "execution_count": null,
   "metadata": {},
   "outputs": [],
   "source": [
    "#see documentation online for more!"
   ]
  },
  {
   "cell_type": "markdown",
   "metadata": {},
   "source": [
    "Dictionaries are have a key-value pairing. You can look up your value with a key. The key are unique and unordered (like a set). Your value can be anything but your key must be a constant datatype."
   ]
  },
  {
   "cell_type": "code",
   "execution_count": null,
   "metadata": {},
   "outputs": [],
   "source": [
    "my_dict = {'one':1, 'two':2, 'three':3}"
   ]
  },
  {
   "cell_type": "code",
   "execution_count": null,
   "metadata": {},
   "outputs": [],
   "source": [
    "my_dict['one']"
   ]
  },
  {
   "cell_type": "markdown",
   "metadata": {},
   "source": [
    "Strings"
   ]
  },
  {
   "cell_type": "code",
   "execution_count": null,
   "metadata": {},
   "outputs": [],
   "source": [
    "#You can make strings in Python with quotes:\n",
    "my_string = \"my string\""
   ]
  },
  {
   "cell_type": "code",
   "execution_count": null,
   "metadata": {},
   "outputs": [],
   "source": [
    "len(my_string)"
   ]
  },
  {
   "cell_type": "code",
   "execution_count": null,
   "metadata": {},
   "outputs": [],
   "source": [
    "my_string.split()"
   ]
  },
  {
   "cell_type": "code",
   "execution_count": null,
   "metadata": {},
   "outputs": [],
   "source": [
    "my_string.split('s')"
   ]
  },
  {
   "cell_type": "code",
   "execution_count": null,
   "metadata": {},
   "outputs": [],
   "source": [
    "#Escaping special characters\n",
    "my_string  = \"\\\"my\\\" string\"\n",
    "my_string\n"
   ]
  },
  {
   "cell_type": "code",
   "execution_count": null,
   "metadata": {},
   "outputs": [],
   "source": [
    "my_string[0:4]"
   ]
  },
  {
   "cell_type": "code",
   "execution_count": null,
   "metadata": {},
   "outputs": [],
   "source": [
    "to_be_string = [\"this\",\"sentence\",\"is\",\"a\",\"string\"]"
   ]
  },
  {
   "cell_type": "code",
   "execution_count": null,
   "metadata": {},
   "outputs": [],
   "source": [
    "\" \".join(to_be_string)"
   ]
  },
  {
   "cell_type": "code",
   "execution_count": null,
   "metadata": {},
   "outputs": [],
   "source": [
    "#stripping white spaces\n",
    "my_string_with_extra_fat = \"this ia a string.     \""
   ]
  },
  {
   "cell_type": "code",
   "execution_count": null,
   "metadata": {},
   "outputs": [],
   "source": [
    "my_string_with_extra_fat.strip()"
   ]
  },
  {
   "cell_type": "code",
   "execution_count": null,
   "metadata": {},
   "outputs": [],
   "source": [
    "my_string_with_extra_fat.strip().upper()\n"
   ]
  },
  {
   "cell_type": "code",
   "execution_count": null,
   "metadata": {},
   "outputs": [],
   "source": [
    "upper_string = \"UPPER STRING\""
   ]
  },
  {
   "cell_type": "code",
   "execution_count": null,
   "metadata": {},
   "outputs": [],
   "source": [
    "upper_string.lower()"
   ]
  },
  {
   "cell_type": "code",
   "execution_count": null,
   "metadata": {},
   "outputs": [],
   "source": [
    "my_string_with_extra_fat.capitalize()"
   ]
  },
  {
   "cell_type": "code",
   "execution_count": null,
   "metadata": {},
   "outputs": [],
   "source": []
  },
  {
   "cell_type": "markdown",
   "metadata": {},
   "source": [
    "Loops"
   ]
  },
  {
   "cell_type": "code",
   "execution_count": null,
   "metadata": {},
   "outputs": [],
   "source": []
  },
  {
   "cell_type": "code",
   "execution_count": null,
   "metadata": {},
   "outputs": [],
   "source": [
    "#for loops are the most commonly used\n",
    "for _ in range(4):\n",
    "    print(_)"
   ]
  },
  {
   "cell_type": "code",
   "execution_count": null,
   "metadata": {},
   "outputs": [],
   "source": [
    "for _ in {'apples','bananas','chocolate'}:\n",
    "    print(_)"
   ]
  },
  {
   "cell_type": "code",
   "execution_count": null,
   "metadata": {},
   "outputs": [],
   "source": [
    "#while loops\n",
    "condition = 4\n",
    "while condition<100:\n",
    "    print(condition)\n",
    "    condition += 1"
   ]
  },
  {
   "cell_type": "code",
   "execution_count": null,
   "metadata": {},
   "outputs": [],
   "source": [
    "condition = 4\n",
    "while True:\n",
    "    if condition<100:\n",
    "        print(condition)\n",
    "        condition += 1\n",
    "    else:\n",
    "        break"
   ]
  },
  {
   "cell_type": "code",
   "execution_count": 2,
   "metadata": {},
   "outputs": [],
   "source": [
    "#list comprehension\n",
    "animals = ['tiger','bear','chicken','chipmunk']\n",
    "plural_animals = [animal+'s' for animal in animals]"
   ]
  },
  {
   "cell_type": "markdown",
   "metadata": {},
   "source": [
    "Team exercises for your soul!"
   ]
  },
  {
   "cell_type": "markdown",
   "metadata": {},
   "source": [
    "1. Given a string, count how many times the word 'smelly' appears."
   ]
  },
  {
   "cell_type": "markdown",
   "metadata": {},
   "source": [
    "2. Given a string, find the alphabet that appears the most frequently."
   ]
  },
  {
   "cell_type": "markdown",
   "metadata": {},
   "source": [
    "3. Given a string, produce another string that only keeps every second word of the original string."
   ]
  },
  {
   "cell_type": "markdown",
   "metadata": {},
   "source": [
    "4. You own Facebook and you have everyone's chatting history in a string. What is one way of storing everyone's chats so that you can keep track of how likely it is someone may be depressed?"
   ]
  },
  {
   "cell_type": "code",
   "execution_count": 9,
   "metadata": {},
   "outputs": [],
   "source": [
    "#1. smelly\n",
    "s = \"This is a smelly city. Why are there so many smelly cats here? Is your place smelly too? I think this is a terribly smelly place and I'm worried I'll turn smelly like you.\"\n"
   ]
  },
  {
   "cell_type": "code",
   "execution_count": 10,
   "metadata": {},
   "outputs": [
    {
     "name": "stdout",
     "output_type": "stream",
     "text": [
      "5\n"
     ]
    }
   ],
   "source": [
    "smelly = \"smelly\"\n",
    "count_of_smelly = 0\n",
    "punctuation = \"!,.\"\n",
    "for _ in range(len(s.split())):\n",
    "    my_word = s.split()[_]\n",
    "    my_word = my_word.lower()\n",
    "    if my_word == smelly:\n",
    "        count_of_smelly += 1\n",
    "print(count_of_smelly)"
   ]
  },
  {
   "cell_type": "code",
   "execution_count": 13,
   "metadata": {},
   "outputs": [],
   "source": [
    "#2. max characters\n",
    "s2 = \"abracadabra, open sesame!\""
   ]
  },
  {
   "cell_type": "code",
   "execution_count": 21,
   "metadata": {},
   "outputs": [
    {
     "data": {
      "text/plain": [
       "{'a': 6,\n",
       " 'b': 2,\n",
       " 'r': 2,\n",
       " 'c': 1,\n",
       " 'd': 1,\n",
       " ',': 1,\n",
       " ' ': 2,\n",
       " 'o': 1,\n",
       " 'p': 1,\n",
       " 'e': 3,\n",
       " 'n': 1,\n",
       " 's': 2,\n",
       " 'm': 1,\n",
       " '!': 1}"
      ]
     },
     "execution_count": 21,
     "metadata": {},
     "output_type": "execute_result"
    }
   ],
   "source": [
    "count_dict = {}\n",
    "for character in s2:\n",
    "    if character in count_dict:\n",
    "        count_dict[character] = count_dict[character] + 1\n",
    "    else:\n",
    "        count_dict[character] = 1\n",
    "count_dict"
   ]
  },
  {
   "cell_type": "code",
   "execution_count": 19,
   "metadata": {},
   "outputs": [],
   "source": [
    "#3 second word generator\n",
    "s3 = \"This This is is a a test test to to see see if if you you were were paying paying attention! attention!\""
   ]
  },
  {
   "cell_type": "code",
   "execution_count": 35,
   "metadata": {},
   "outputs": [
    {
     "name": "stdout",
     "output_type": "stream",
     "text": [
      "This is a test to see if you were paying attention!\n",
      "This is a test to see if you were paying attention!\n"
     ]
    }
   ],
   "source": [
    "print(\" \".join(s3.split()[1:len(s3.split()):2])) #printing every second\n",
    "print(\" \".join(s3.split()[0:len(s3.split()):2])) #printing one-three-etc."
   ]
  },
  {
   "cell_type": "code",
   "execution_count": null,
   "metadata": {},
   "outputs": [],
   "source": [
    "#4 Facebook chats\n",
    "chat1A = \"hello! how are you doing martha? I miss you.\"\n",
    "chat2A = \"Jennifer! Where are you?\"\n",
    "chat3A = \"I feel lonely and sad\"\n",
    "\n",
    "chat1B = \"Oh No! My life is a mistake\"\n",
    "chat2B = \"I don't know\""
   ]
  },
  {
   "cell_type": "markdown",
   "metadata": {},
   "source": [
    "Writing Files"
   ]
  },
  {
   "cell_type": "code",
   "execution_count": 38,
   "metadata": {},
   "outputs": [],
   "source": [
    "#Python 'open' command creates a file object to read and write files\n",
    "f = open('./swan', 'w')"
   ]
  },
  {
   "cell_type": "code",
   "execution_count": 39,
   "metadata": {},
   "outputs": [
    {
     "data": {
      "text/plain": [
       "139"
      ]
     },
     "execution_count": 39,
     "metadata": {},
     "output_type": "execute_result"
    }
   ],
   "source": [
    "f.write(\"Swans are white birds that live in lakes. They are beautiful and symbolize grace and elegance. If you're lucky you might find a black swan.\")"
   ]
  },
  {
   "cell_type": "code",
   "execution_count": 40,
   "metadata": {},
   "outputs": [],
   "source": [
    "f.close()"
   ]
  },
  {
   "cell_type": "code",
   "execution_count": 41,
   "metadata": {},
   "outputs": [],
   "source": [
    "with open('./beaver','w') as f:\n",
    "    f.write(\"Beavers are rodents that live in the forest, by lakes. They have big teeth and like to build dams with twigs.\")"
   ]
  },
  {
   "cell_type": "code",
   "execution_count": 42,
   "metadata": {},
   "outputs": [],
   "source": [
    "with open('./a_poem','r') as f:\n",
    "    poem = f.read()\n",
    "    "
   ]
  },
  {
   "cell_type": "code",
   "execution_count": 46,
   "metadata": {},
   "outputs": [
    {
     "data": {
      "text/plain": [
       "\"Farewell!--God knows when we shall meet again.\\nI have a faint cold fear thrills through my veins\\nThat almost freezes up the heat of life:\\nI'll call them back again to comfort me;--\\nNurse!--What should she do here?\\nMy dismal scene I needs must act alone.--\\nCome, vial.--\\nWhat if this mixture do not work at all?\\nShall I be married, then, to-morrow morning?--\\nNo, No!--this shall forbid it:--lie thou there.--\\nWhat if it be a poison, which the friar\\nSubtly hath minister'd to have me dead,\\nLest in this marriage he should be dishonour'd,\\nBecause he married me before to Romeo?\\nI fear it is: and yet methinks it should not,\\nFor he hath still been tried a holy man:--\\nI will not entertain so bad a thought.--\\nHow if, when I am laid into the tomb,\\nI wake before the time that Romeo\\n...\\n\\n\""
      ]
     },
     "execution_count": 46,
     "metadata": {},
     "output_type": "execute_result"
    }
   ],
   "source": [
    "poem"
   ]
  },
  {
   "cell_type": "code",
   "execution_count": 43,
   "metadata": {},
   "outputs": [
    {
     "data": {
      "text/plain": [
       "['Farewell!--God knows when we shall meet again.',\n",
       " 'I have a faint cold fear thrills through my veins',\n",
       " 'That almost freezes up the heat of life:',\n",
       " \"I'll call them back again to comfort me;--\",\n",
       " 'Nurse!--What should she do here?',\n",
       " 'My dismal scene I needs must act alone.--',\n",
       " 'Come, vial.--',\n",
       " 'What if this mixture do not work at all?',\n",
       " 'Shall I be married, then, to-morrow morning?--',\n",
       " 'No, No!--this shall forbid it:--lie thou there.--',\n",
       " 'What if it be a poison, which the friar',\n",
       " \"Subtly hath minister'd to have me dead,\",\n",
       " \"Lest in this marriage he should be dishonour'd,\",\n",
       " 'Because he married me before to Romeo?',\n",
       " 'I fear it is: and yet methinks it should not,',\n",
       " 'For he hath still been tried a holy man:--',\n",
       " 'I will not entertain so bad a thought.--',\n",
       " 'How if, when I am laid into the tomb,',\n",
       " 'I wake before the time that Romeo',\n",
       " '...',\n",
       " '',\n",
       " '']"
      ]
     },
     "execution_count": 43,
     "metadata": {},
     "output_type": "execute_result"
    }
   ],
   "source": [
    "poem.split(\"\\n\")"
   ]
  },
  {
   "cell_type": "code",
   "execution_count": null,
   "metadata": {},
   "outputs": [],
   "source": []
  },
  {
   "cell_type": "code",
   "execution_count": 47,
   "metadata": {},
   "outputs": [],
   "source": [
    "f = open('./a_poem','r')"
   ]
  },
  {
   "cell_type": "code",
   "execution_count": 48,
   "metadata": {},
   "outputs": [
    {
     "name": "stdout",
     "output_type": "stream",
     "text": [
      "I have a faint cold fear thrills through my veins\n",
      "\n",
      "I'll call them back again to comfort me;--\n",
      "\n",
      "My dismal scene I needs must act alone.--\n",
      "\n",
      "What if this mixture do not work at all?\n",
      "\n",
      "No, No!--this shall forbid it:--lie thou there.--\n",
      "\n",
      "Subtly hath minister'd to have me dead,\n",
      "\n",
      "Because he married me before to Romeo?\n",
      "\n",
      "For he hath still been tried a holy man:--\n",
      "\n",
      "How if, when I am laid into the tomb,\n",
      "\n",
      "...\n",
      "\n",
      "\n"
     ]
    }
   ],
   "source": [
    "for line in f:\n",
    "    print(f.readline())"
   ]
  },
  {
   "cell_type": "markdown",
   "metadata": {},
   "source": [
    "Serializing Data Structures"
   ]
  },
  {
   "cell_type": "code",
   "execution_count": 50,
   "metadata": {},
   "outputs": [
    {
     "data": {
      "text/plain": [
       "True"
      ]
     },
     "execution_count": 50,
     "metadata": {},
     "output_type": "execute_result"
    }
   ],
   "source": [
    "int(\"3\") == 3"
   ]
  },
  {
   "cell_type": "code",
   "execution_count": 57,
   "metadata": {},
   "outputs": [],
   "source": [
    "import json #advantage: use with non-Python languages, Human readable\n",
    "a = [1,2,3]\n",
    "b = [{1:2984, 2:39482, 3:923812}, \"happy hippos\", 9.24948548]"
   ]
  },
  {
   "cell_type": "code",
   "execution_count": 58,
   "metadata": {},
   "outputs": [],
   "source": [
    "json.dump(b, open('./json_dump2','w'))"
   ]
  },
  {
   "cell_type": "code",
   "execution_count": 64,
   "metadata": {},
   "outputs": [],
   "source": [
    "a_born_again = json.load(open('./json_dump2','r'))"
   ]
  },
  {
   "cell_type": "code",
   "execution_count": 61,
   "metadata": {},
   "outputs": [],
   "source": [
    "b = {'a':333, 'b':33333}"
   ]
  },
  {
   "cell_type": "code",
   "execution_count": 62,
   "metadata": {},
   "outputs": [
    {
     "data": {
      "text/plain": [
       "'{\"a\": 333, \"b\": 33333}'"
      ]
     },
     "execution_count": 62,
     "metadata": {},
     "output_type": "execute_result"
    }
   ],
   "source": [
    "json.dumps(b)"
   ]
  },
  {
   "cell_type": "code",
   "execution_count": 74,
   "metadata": {},
   "outputs": [],
   "source": [
    "import pickle #binary serialization. NOT human readable. Also, does not work with non-Python languages"
   ]
  },
  {
   "cell_type": "code",
   "execution_count": 76,
   "metadata": {},
   "outputs": [],
   "source": [
    "a = [1,2,3]\n",
    "pickle.dump(a, open('./pickle_dump','wb'))"
   ]
  },
  {
   "cell_type": "code",
   "execution_count": 77,
   "metadata": {},
   "outputs": [
    {
     "data": {
      "text/plain": [
       "b'\\x80\\x03]q\\x00(K\\x01K\\x02K\\x03e.'"
      ]
     },
     "execution_count": 77,
     "metadata": {},
     "output_type": "execute_result"
    }
   ],
   "source": [
    "pickle.dumps(a)"
   ]
  },
  {
   "cell_type": "code",
   "execution_count": 82,
   "metadata": {},
   "outputs": [],
   "source": [
    "born_again_pickle = pickle.load(open('./pickle_dump', 'rb'))"
   ]
  },
  {
   "cell_type": "code",
   "execution_count": null,
   "metadata": {},
   "outputs": [],
   "source": []
  },
  {
   "cell_type": "code",
   "execution_count": 83,
   "metadata": {},
   "outputs": [],
   "source": [
    "#reading a csv"
   ]
  },
  {
   "cell_type": "code",
   "execution_count": 84,
   "metadata": {},
   "outputs": [],
   "source": [
    "import csv\n"
   ]
  },
  {
   "cell_type": "code",
   "execution_count": 87,
   "metadata": {},
   "outputs": [],
   "source": [
    "with open('our_example.csv', 'w') as csvfile:\n",
    "    writer = csv.writer(csvfile, delimiter='$')\n",
    "    writer.writerow(['333D','puppies', 'yellow', '30029412','3.1'])\n",
    "    writer.writerow(['221A','unicorn','fuscia','202293919','109.12'])\n",
    "    writer.writerow(['1B','lobsters','aqua','591012219','0.19'])\n",
    "    writer.writerow(['001I','dinosaurs','brown','29982358','0.911'])\n",
    "    writer.writerow(['098G','donkeys','pale','02849222','9.55'])"
   ]
  },
  {
   "cell_type": "code",
   "execution_count": 97,
   "metadata": {},
   "outputs": [
    {
     "name": "stdout",
     "output_type": "stream",
     "text": [
      "ID    ANIMAL    COLOR    ORDERNUM    WEIGHT\n",
      "333D    puppies    yellow    30029412    3.1\n",
      "221A    unicorn    fuscia    202293919    109.12\n",
      "1B    lobsters    aqua    591012219    0.19\n",
      "001I    dinosaurs    brown    29982358    0.911\n",
      "098G    donkeys    pale    02849222    9.55\n"
     ]
    }
   ],
   "source": [
    "with open('our_example.csv', 'r') as csvfile:\n",
    "    reader = csv.reader(csvfile, delimiter='$')\n",
    "    for row in reader:\n",
    "        print('    '.join(row))"
   ]
  },
  {
   "cell_type": "code",
   "execution_count": 95,
   "metadata": {},
   "outputs": [
    {
     "name": "stdout",
     "output_type": "stream",
     "text": [
      "puppies\n",
      "unicorn\n",
      "lobsters\n",
      "dinosaurs\n",
      "donkeys\n"
     ]
    }
   ],
   "source": [
    "#What about by fieldnames?\n",
    "with open('our_example.csv', 'r') as csvfile:\n",
    "    reader = csv.DictReader(csvfile, delimiter=\"$\")\n",
    "    for row in reader:\n",
    "        print(row['ANIMAL'])"
   ]
  },
  {
   "cell_type": "markdown",
   "metadata": {},
   "source": [
    "Regular Expressions"
   ]
  },
  {
   "cell_type": "code",
   "execution_count": 119,
   "metadata": {},
   "outputs": [],
   "source": [
    "#We'll be doing more regex later in the course! This is just a taster\n",
    "import re\n",
    "m = re.search(r'cat.', 'whose cats are they? they are cute cats')\n"
   ]
  },
  {
   "cell_type": "code",
   "execution_count": 120,
   "metadata": {},
   "outputs": [
    {
     "data": {
      "text/plain": [
       "<_sre.SRE_Match object; span=(6, 10), match='cats'>"
      ]
     },
     "execution_count": 120,
     "metadata": {},
     "output_type": "execute_result"
    }
   ],
   "source": [
    "m"
   ]
  },
  {
   "cell_type": "code",
   "execution_count": 121,
   "metadata": {},
   "outputs": [
    {
     "data": {
      "text/plain": [
       "'cats'"
      ]
     },
     "execution_count": 121,
     "metadata": {},
     "output_type": "execute_result"
    }
   ],
   "source": [
    "m.group(0)"
   ]
  },
  {
   "cell_type": "code",
   "execution_count": 122,
   "metadata": {},
   "outputs": [],
   "source": [
    "m = re.split(r'cats', 'whose cats are they? they are cute cats')\n",
    "\n"
   ]
  },
  {
   "cell_type": "code",
   "execution_count": 123,
   "metadata": {},
   "outputs": [
    {
     "data": {
      "text/plain": [
       "['whose ', ' are they? they are cute ', '']"
      ]
     },
     "execution_count": 123,
     "metadata": {},
     "output_type": "execute_result"
    }
   ],
   "source": [
    "m"
   ]
  },
  {
   "cell_type": "markdown",
   "metadata": {},
   "source": [
    "PANDAS"
   ]
  },
  {
   "cell_type": "code",
   "execution_count": 124,
   "metadata": {},
   "outputs": [],
   "source": [
    "import pandas"
   ]
  },
  {
   "cell_type": "code",
   "execution_count": 126,
   "metadata": {},
   "outputs": [],
   "source": [
    "from pandas import DataFrame, read_csv"
   ]
  },
  {
   "cell_type": "code",
   "execution_count": 127,
   "metadata": {},
   "outputs": [],
   "source": [
    "df = pandas.read_csv('./our_example.csv', delimiter=\"$\")"
   ]
  },
  {
   "cell_type": "code",
   "execution_count": 128,
   "metadata": {},
   "outputs": [
    {
     "data": {
      "text/html": [
       "<div>\n",
       "<style scoped>\n",
       "    .dataframe tbody tr th:only-of-type {\n",
       "        vertical-align: middle;\n",
       "    }\n",
       "\n",
       "    .dataframe tbody tr th {\n",
       "        vertical-align: top;\n",
       "    }\n",
       "\n",
       "    .dataframe thead th {\n",
       "        text-align: right;\n",
       "    }\n",
       "</style>\n",
       "<table border=\"1\" class=\"dataframe\">\n",
       "  <thead>\n",
       "    <tr style=\"text-align: right;\">\n",
       "      <th></th>\n",
       "      <th>ID</th>\n",
       "      <th>ANIMAL</th>\n",
       "      <th>COLOR</th>\n",
       "      <th>ORDERNUM</th>\n",
       "      <th>WEIGHT</th>\n",
       "    </tr>\n",
       "  </thead>\n",
       "  <tbody>\n",
       "    <tr>\n",
       "      <th>0</th>\n",
       "      <td>333D</td>\n",
       "      <td>puppies</td>\n",
       "      <td>yellow</td>\n",
       "      <td>30029412</td>\n",
       "      <td>3.100</td>\n",
       "    </tr>\n",
       "    <tr>\n",
       "      <th>1</th>\n",
       "      <td>221A</td>\n",
       "      <td>unicorn</td>\n",
       "      <td>fuscia</td>\n",
       "      <td>202293919</td>\n",
       "      <td>109.120</td>\n",
       "    </tr>\n",
       "    <tr>\n",
       "      <th>2</th>\n",
       "      <td>1B</td>\n",
       "      <td>lobsters</td>\n",
       "      <td>aqua</td>\n",
       "      <td>591012219</td>\n",
       "      <td>0.190</td>\n",
       "    </tr>\n",
       "    <tr>\n",
       "      <th>3</th>\n",
       "      <td>001I</td>\n",
       "      <td>dinosaurs</td>\n",
       "      <td>brown</td>\n",
       "      <td>29982358</td>\n",
       "      <td>0.911</td>\n",
       "    </tr>\n",
       "    <tr>\n",
       "      <th>4</th>\n",
       "      <td>098G</td>\n",
       "      <td>donkeys</td>\n",
       "      <td>pale</td>\n",
       "      <td>2849222</td>\n",
       "      <td>9.550</td>\n",
       "    </tr>\n",
       "  </tbody>\n",
       "</table>\n",
       "</div>"
      ],
      "text/plain": [
       "     ID     ANIMAL   COLOR   ORDERNUM   WEIGHT\n",
       "0  333D    puppies  yellow   30029412    3.100\n",
       "1  221A    unicorn  fuscia  202293919  109.120\n",
       "2    1B   lobsters    aqua  591012219    0.190\n",
       "3  001I  dinosaurs   brown   29982358    0.911\n",
       "4  098G    donkeys    pale    2849222    9.550"
      ]
     },
     "execution_count": 128,
     "metadata": {},
     "output_type": "execute_result"
    }
   ],
   "source": [
    "df"
   ]
  },
  {
   "cell_type": "code",
   "execution_count": 130,
   "metadata": {},
   "outputs": [
    {
     "data": {
      "text/plain": [
       "ID           object\n",
       "ANIMAL       object\n",
       "COLOR        object\n",
       "ORDERNUM      int64\n",
       "WEIGHT      float64\n",
       "dtype: object"
      ]
     },
     "execution_count": 130,
     "metadata": {},
     "output_type": "execute_result"
    }
   ],
   "source": [
    "df.dtypes"
   ]
  },
  {
   "cell_type": "code",
   "execution_count": 131,
   "metadata": {},
   "outputs": [
    {
     "data": {
      "text/plain": [
       "0      puppies\n",
       "1      unicorn\n",
       "2     lobsters\n",
       "3    dinosaurs\n",
       "4      donkeys\n",
       "Name: ANIMAL, dtype: object"
      ]
     },
     "execution_count": 131,
     "metadata": {},
     "output_type": "execute_result"
    }
   ],
   "source": [
    "df['ANIMAL']"
   ]
  },
  {
   "cell_type": "code",
   "execution_count": 136,
   "metadata": {},
   "outputs": [
    {
     "data": {
      "text/plain": [
       "47.40621370875341"
      ]
     },
     "execution_count": 136,
     "metadata": {},
     "output_type": "execute_result"
    }
   ],
   "source": [
    "df['WEIGHT'].std()\n"
   ]
  },
  {
   "cell_type": "code",
   "execution_count": 137,
   "metadata": {},
   "outputs": [
    {
     "data": {
      "text/plain": [
       "24.574199999999998"
      ]
     },
     "execution_count": 137,
     "metadata": {},
     "output_type": "execute_result"
    }
   ],
   "source": [
    "df['WEIGHT'].mean()"
   ]
  },
  {
   "cell_type": "code",
   "execution_count": 138,
   "metadata": {},
   "outputs": [
    {
     "data": {
      "text/plain": [
       "109.12"
      ]
     },
     "execution_count": 138,
     "metadata": {},
     "output_type": "execute_result"
    }
   ],
   "source": [
    "df['WEIGHT'].max()"
   ]
  },
  {
   "cell_type": "code",
   "execution_count": 140,
   "metadata": {},
   "outputs": [
    {
     "data": {
      "text/plain": [
       "<matplotlib.axes._subplots.AxesSubplot at 0x1158f5cc0>"
      ]
     },
     "execution_count": 140,
     "metadata": {},
     "output_type": "execute_result"
    },
    {
     "data": {
      "image/png": "[encoded data removed]",
      "text/plain": [
       "<Figure size 432x288 with 1 Axes>"
      ]
     },
     "metadata": {},
     "output_type": "display_data"
    }
   ],
   "source": [
    "%matplotlib inline  \n",
    "df['WEIGHT'].plot()"
   ]
  },
  {
   "cell_type": "code",
   "execution_count": 141,
   "metadata": {},
   "outputs": [
    {
     "data": {
      "text/plain": [
       "<matplotlib.axes._subplots.AxesSubplot at 0x115ddd828>"
      ]
     },
     "execution_count": 141,
     "metadata": {},
     "output_type": "execute_result"
    },
    {
     "data": {
      "image/png": "[encoded data removed]",
      "text/plain": [
       "<Figure size 432x288 with 1 Axes>"
      ]
     },
     "metadata": {},
     "output_type": "display_data"
    }
   ],
   "source": [
    "df['WEIGHT'].plot.bar()"
   ]
  },
  {
   "cell_type": "markdown",
   "metadata": {},
   "source": [
    "More Exercises for your soul!"
   ]
  },
  {
   "cell_type": "code",
   "execution_count": 143,
   "metadata": {},
   "outputs": [],
   "source": [
    "our_class = pandas.read_csv('./esu2018emails.csv',delimiter=\",\")"
   ]
  },
  {
   "cell_type": "code",
   "execution_count": 148,
   "metadata": {},
   "outputs": [
    {
     "data": {
      "text/html": [
       "<div>\n",
       "<style scoped>\n",
       "    .dataframe tbody tr th:only-of-type {\n",
       "        vertical-align: middle;\n",
       "    }\n",
       "\n",
       "    .dataframe tbody tr th {\n",
       "        vertical-align: top;\n",
       "    }\n",
       "\n",
       "    .dataframe thead th {\n",
       "        text-align: right;\n",
       "    }\n",
       "</style>\n",
       "<table border=\"1\" class=\"dataframe\">\n",
       "  <thead>\n",
       "    <tr style=\"text-align: right;\">\n",
       "      <th></th>\n",
       "      <th>NAME</th>\n",
       "      <th>email</th>\n",
       "      <th>favorite_animal</th>\n",
       "      <th>favorite_color</th>\n",
       "      <th>num_siblings</th>\n",
       "      <th>favorite_num</th>\n",
       "      <th>month_birth</th>\n",
       "      <th>pets_in_your_lifetime</th>\n",
       "      <th>memory_computer (G)</th>\n",
       "    </tr>\n",
       "  </thead>\n",
       "  <tbody>\n",
       "    <tr>\n",
       "      <th>0</th>\n",
       "      <td>Katya Aplonova</td>\n",
       "      <td>aplooon@gmail.com</td>\n",
       "      <td>dog</td>\n",
       "      <td>green</td>\n",
       "      <td>0</td>\n",
       "      <td>8</td>\n",
       "      <td>1</td>\n",
       "      <td>6</td>\n",
       "      <td>8</td>\n",
       "    </tr>\n",
       "    <tr>\n",
       "      <th>1</th>\n",
       "      <td>Tanja Wiehn</td>\n",
       "      <td>tanja.wiehn@hum.ku.dk</td>\n",
       "      <td>pinguin</td>\n",
       "      <td>mint</td>\n",
       "      <td>1</td>\n",
       "      <td>11</td>\n",
       "      <td>3</td>\n",
       "      <td>4</td>\n",
       "      <td>8</td>\n",
       "    </tr>\n",
       "    <tr>\n",
       "      <th>2</th>\n",
       "      <td>Kerstin Roth</td>\n",
       "      <td>kerstin.roth@gs.uni-heidelberg.de</td>\n",
       "      <td>red_panda</td>\n",
       "      <td>orange</td>\n",
       "      <td>1</td>\n",
       "      <td>7</td>\n",
       "      <td>7</td>\n",
       "      <td>0</td>\n",
       "      <td>4</td>\n",
       "    </tr>\n",
       "    <tr>\n",
       "      <th>3</th>\n",
       "      <td>Rasa Kasperienė</td>\n",
       "      <td>rasa.kasperiene@vdu.lt</td>\n",
       "      <td>dog</td>\n",
       "      <td>white</td>\n",
       "      <td>1</td>\n",
       "      <td>4</td>\n",
       "      <td>3</td>\n",
       "      <td>4</td>\n",
       "      <td>4</td>\n",
       "    </tr>\n",
       "    <tr>\n",
       "      <th>4</th>\n",
       "      <td>Linda Brandt</td>\n",
       "      <td>linda.brandt@stud.unibas.ch</td>\n",
       "      <td>tiger</td>\n",
       "      <td>green</td>\n",
       "      <td>1</td>\n",
       "      <td>23</td>\n",
       "      <td>12</td>\n",
       "      <td>0</td>\n",
       "      <td>8</td>\n",
       "    </tr>\n",
       "    <tr>\n",
       "      <th>5</th>\n",
       "      <td>Joe Dunlop</td>\n",
       "      <td>dunlopjo@hu-berlin.de</td>\n",
       "      <td>otter</td>\n",
       "      <td>green</td>\n",
       "      <td>1</td>\n",
       "      <td>4</td>\n",
       "      <td>10</td>\n",
       "      <td>6</td>\n",
       "      <td>8</td>\n",
       "    </tr>\n",
       "    <tr>\n",
       "      <th>6</th>\n",
       "      <td>Erdal Ayan</td>\n",
       "      <td>erdal_ayan@yahoo.com</td>\n",
       "      <td>pigeon</td>\n",
       "      <td>white</td>\n",
       "      <td>2</td>\n",
       "      <td>3</td>\n",
       "      <td>3</td>\n",
       "      <td>1</td>\n",
       "      <td>8</td>\n",
       "    </tr>\n",
       "    <tr>\n",
       "      <th>7</th>\n",
       "      <td>Barbara Danti</td>\n",
       "      <td>b.danti@me.com</td>\n",
       "      <td>cat</td>\n",
       "      <td>green</td>\n",
       "      <td>1</td>\n",
       "      <td>7</td>\n",
       "      <td>3</td>\n",
       "      <td>4</td>\n",
       "      <td>12</td>\n",
       "    </tr>\n",
       "    <tr>\n",
       "      <th>8</th>\n",
       "      <td>Christoph Deppe</td>\n",
       "      <td>christoph.deppe@hsu-hh.de</td>\n",
       "      <td>shiba inu</td>\n",
       "      <td>black</td>\n",
       "      <td>2</td>\n",
       "      <td>1</td>\n",
       "      <td>2</td>\n",
       "      <td>5</td>\n",
       "      <td>8</td>\n",
       "    </tr>\n",
       "    <tr>\n",
       "      <th>9</th>\n",
       "      <td>Jana Keck</td>\n",
       "      <td>Jana.Keck@ilw.uni-stuttgart.de</td>\n",
       "      <td>meerkats</td>\n",
       "      <td>black</td>\n",
       "      <td>2</td>\n",
       "      <td>29</td>\n",
       "      <td>6</td>\n",
       "      <td>20</td>\n",
       "      <td>10</td>\n",
       "    </tr>\n",
       "    <tr>\n",
       "      <th>10</th>\n",
       "      <td>Roberto La Rocca</td>\n",
       "      <td>r_la_rocca@hotmail.com</td>\n",
       "      <td>duckies</td>\n",
       "      <td>none</td>\n",
       "      <td>1</td>\n",
       "      <td>2</td>\n",
       "      <td>11</td>\n",
       "      <td>1</td>\n",
       "      <td>8</td>\n",
       "    </tr>\n",
       "    <tr>\n",
       "      <th>11</th>\n",
       "      <td>Marie-Eglantine Lescasse</td>\n",
       "      <td>marie.e.lescasse@gmail.com</td>\n",
       "      <td>anteaters</td>\n",
       "      <td>light_blue</td>\n",
       "      <td>0</td>\n",
       "      <td>37</td>\n",
       "      <td>9</td>\n",
       "      <td>3</td>\n",
       "      <td>12</td>\n",
       "    </tr>\n",
       "    <tr>\n",
       "      <th>12</th>\n",
       "      <td>Stefan Trajković Filipović</td>\n",
       "      <td>Stefan.Trajkovic-Filipovic@gcsc.uni-giessen.de</td>\n",
       "      <td>cat</td>\n",
       "      <td>dark_blue</td>\n",
       "      <td>2</td>\n",
       "      <td>7</td>\n",
       "      <td>8</td>\n",
       "      <td>3</td>\n",
       "      <td>8</td>\n",
       "    </tr>\n",
       "    <tr>\n",
       "      <th>13</th>\n",
       "      <td>Mykola Kosytskyy</td>\n",
       "      <td>colamia@gmail.com</td>\n",
       "      <td>horse</td>\n",
       "      <td>orange</td>\n",
       "      <td>2</td>\n",
       "      <td>9</td>\n",
       "      <td>5</td>\n",
       "      <td>4</td>\n",
       "      <td>8</td>\n",
       "    </tr>\n",
       "    <tr>\n",
       "      <th>14</th>\n",
       "      <td>Justina Mandravickaitė</td>\n",
       "      <td>mandravickaite@gmail.com</td>\n",
       "      <td>cat</td>\n",
       "      <td>black</td>\n",
       "      <td>2</td>\n",
       "      <td>13</td>\n",
       "      <td>9</td>\n",
       "      <td>7</td>\n",
       "      <td>4</td>\n",
       "    </tr>\n",
       "    <tr>\n",
       "      <th>15</th>\n",
       "      <td>Ece Elbeyi</td>\n",
       "      <td>seceelbeyi@gmail.com</td>\n",
       "      <td>cat</td>\n",
       "      <td>purple</td>\n",
       "      <td>1</td>\n",
       "      <td>8</td>\n",
       "      <td>4</td>\n",
       "      <td>6</td>\n",
       "      <td>8</td>\n",
       "    </tr>\n",
       "  </tbody>\n",
       "</table>\n",
       "</div>"
      ],
      "text/plain": [
       "                          NAME  \\\n",
       "0               Katya Aplonova   \n",
       "1                  Tanja Wiehn   \n",
       "2                 Kerstin Roth   \n",
       "3              Rasa Kasperienė   \n",
       "4                 Linda Brandt   \n",
       "5                   Joe Dunlop   \n",
       "6                   Erdal Ayan   \n",
       "7                Barbara Danti   \n",
       "8              Christoph Deppe   \n",
       "9                    Jana Keck   \n",
       "10            Roberto La Rocca   \n",
       "11    Marie-Eglantine Lescasse   \n",
       "12  Stefan Trajković Filipović   \n",
       "13            Mykola Kosytskyy   \n",
       "14      Justina Mandravickaitė   \n",
       "15                  Ece Elbeyi   \n",
       "\n",
       "                                             email favorite_animal  \\\n",
       "0                                aplooon@gmail.com             dog   \n",
       "1                            tanja.wiehn@hum.ku.dk         pinguin   \n",
       "2                kerstin.roth@gs.uni-heidelberg.de       red_panda   \n",
       "3                           rasa.kasperiene@vdu.lt             dog   \n",
       "4                      linda.brandt@stud.unibas.ch           tiger   \n",
       "5                            dunlopjo@hu-berlin.de           otter   \n",
       "6                             erdal_ayan@yahoo.com          pigeon   \n",
       "7                                   b.danti@me.com             cat   \n",
       "8                        christoph.deppe@hsu-hh.de       shiba inu   \n",
       "9                   Jana.Keck@ilw.uni-stuttgart.de        meerkats   \n",
       "10                          r_la_rocca@hotmail.com         duckies   \n",
       "11                      marie.e.lescasse@gmail.com       anteaters   \n",
       "12  Stefan.Trajkovic-Filipovic@gcsc.uni-giessen.de             cat   \n",
       "13                               colamia@gmail.com           horse   \n",
       "14                        mandravickaite@gmail.com             cat   \n",
       "15                            seceelbeyi@gmail.com             cat   \n",
       "\n",
       "   favorite_color  num_siblings  favorite_num  month_birth  \\\n",
       "0           green             0             8            1   \n",
       "1            mint             1            11            3   \n",
       "2          orange             1             7            7   \n",
       "3           white             1             4            3   \n",
       "4           green             1            23           12   \n",
       "5           green             1             4           10   \n",
       "6           white             2             3            3   \n",
       "7           green             1             7            3   \n",
       "8           black             2             1            2   \n",
       "9           black             2            29            6   \n",
       "10           none             1             2           11   \n",
       "11     light_blue             0            37            9   \n",
       "12      dark_blue             2             7            8   \n",
       "13         orange             2             9            5   \n",
       "14          black             2            13            9   \n",
       "15         purple             1             8            4   \n",
       "\n",
       "    pets_in_your_lifetime  memory_computer (G)  \n",
       "0                       6                    8  \n",
       "1                       4                    8  \n",
       "2                       0                    4  \n",
       "3                       4                    4  \n",
       "4                       0                    8  \n",
       "5                       6                    8  \n",
       "6                       1                    8  \n",
       "7                       4                   12  \n",
       "8                       5                    8  \n",
       "9                      20                   10  \n",
       "10                      1                    8  \n",
       "11                      3                   12  \n",
       "12                      3                    8  \n",
       "13                      4                    8  \n",
       "14                      7                    4  \n",
       "15                      6                    8  "
      ]
     },
     "execution_count": 148,
     "metadata": {},
     "output_type": "execute_result"
    }
   ],
   "source": [
    "our_class['pets_in_your_lifetime'].mean()"
   ]
  },
  {
   "cell_type": "code",
   "execution_count": 165,
   "metadata": {},
   "outputs": [
    {
     "data": {
      "text/plain": [
       "0     0\n",
       "1     1\n",
       "2     1\n",
       "3     1\n",
       "4     1\n",
       "5     1\n",
       "6     2\n",
       "7     1\n",
       "8     2\n",
       "9     2\n",
       "10    1\n",
       "11    0\n",
       "12    2\n",
       "13    2\n",
       "14    2\n",
       "15    1\n",
       "Name: num_siblings, dtype: int64"
      ]
     },
     "execution_count": 165,
     "metadata": {},
     "output_type": "execute_result"
    }
   ],
   "source": [
    "our_class['num_siblings']"
   ]
  },
  {
   "cell_type": "code",
   "execution_count": 166,
   "metadata": {},
   "outputs": [],
   "source": [
    "x = (0,1,2)\n",
    "y = (2,7,6) #count/frequency\n"
   ]
  },
  {
   "cell_type": "code",
   "execution_count": 172,
   "metadata": {},
   "outputs": [
    {
     "data": {
      "text/plain": [
       "<matplotlib.axes._subplots.AxesSubplot at 0x11648f9e8>"
      ]
     },
     "execution_count": 172,
     "metadata": {},
     "output_type": "execute_result"
    },
    {
     "data": {
      "image/png": "[encoded data removed]",
      "text/plain": [
       "<Figure size 432x288 with 1 Axes>"
      ]
     },
     "metadata": {},
     "output_type": "display_data"
    }
   ],
   "source": [
    "our_class['month_birth'].hist(bins=12)"
   ]
  },
  {
   "cell_type": "code",
   "execution_count": 190,
   "metadata": {},
   "outputs": [],
   "source": [
    "hemingway = open(\"./oldmancopy.txt\", \"r\")"
   ]
  },
  {
   "cell_type": "code",
   "execution_count": 191,
   "metadata": {},
   "outputs": [],
   "source": [
    "hemingway_text = hemingway.read()"
   ]
  },
  {
   "cell_type": "code",
   "execution_count": 200,
   "metadata": {},
   "outputs": [
    {
     "data": {
      "text/plain": [
       "220"
      ]
     },
     "execution_count": 200,
     "metadata": {},
     "output_type": "execute_result"
    }
   ],
   "source": [
    "hemingway_text.count(\"old man\")"
   ]
  },
  {
   "cell_type": "code",
   "execution_count": 204,
   "metadata": {},
   "outputs": [
    {
     "data": {
      "text/plain": [
       "47"
      ]
     },
     "execution_count": 204,
     "metadata": {},
     "output_type": "execute_result"
    }
   ],
   "source": [
    "hemingway_text.count(\"sea\")"
   ]
  },
  {
   "cell_type": "code",
   "execution_count": null,
   "metadata": {},
   "outputs": [],
   "source": []
  },
  {
   "cell_type": "code",
   "execution_count": null,
   "metadata": {},
   "outputs": [],
   "source": []
  }
 ],
 "metadata": {
  "kernelspec": {
   "display_name": "Python 3",
   "language": "python",
   "name": "python3"
  },
  "language_info": {
   "codemirror_mode": {
    "name": "ipython",
    "version": 3
   },
   "file_extension": ".py",
   "mimetype": "text/x-python",
   "name": "python",
   "nbconvert_exporter": "python",
   "pygments_lexer": "ipython3",
   "version": "3.6.5"
  }
 },
 "nbformat": 4,
 "nbformat_minor": 2
}
